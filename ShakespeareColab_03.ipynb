{
  "nbformat": 4,
  "nbformat_minor": 0,
  "metadata": {
    "colab": {
      "name": "ShakespeareColab_03.ipynb",
      "provenance": [],
      "authorship_tag": "ABX9TyNkqy7SF3UPpYFlqerwtMgk",
      "include_colab_link": true
    },
    "kernelspec": {
      "name": "python3",
      "display_name": "Python 3"
    },
    "language_info": {
      "name": "python"
    }
  },
  "cells": [
    {
      "cell_type": "markdown",
      "metadata": {
        "id": "view-in-github",
        "colab_type": "text"
      },
      "source": [
        "<a href=\"https://colab.research.google.com/github/johntango/shakespeare001/blob/main/ShakespeareColab_03.ipynb\" target=\"_parent\"><img src=\"https://colab.research.google.com/assets/colab-badge.svg\" alt=\"Open In Colab\"/></a>"
      ]
    },
    {
      "cell_type": "code",
      "execution_count": 39,
      "metadata": {
        "colab": {
          "base_uri": "https://localhost:8080/"
        },
        "id": "eXXNAIMs_fxu",
        "outputId": "d5dfb693-2298-4bfd-ecc2-89bfa943e5af"
      },
      "outputs": [
        {
          "output_type": "stream",
          "name": "stdout",
          "text": [
            "Authenticated\n"
          ]
        }
      ],
      "source": [
        "from google.colab import auth\n",
        "auth.authenticate_user()\n",
        "print('Authenticated')"
      ]
    },
    {
      "cell_type": "code",
      "source": [
        "%%bigquery --project demoproject002-351320 --verbose df\n",
        "SELECT * FROM `demoproject002-351320.Shakespeare.shakespeareT8`"
      ],
      "metadata": {
        "colab": {
          "base_uri": "https://localhost:8080/"
        },
        "id": "GzYZmvt_I2HV",
        "outputId": "315ac93f-9e94-4636-b4cb-778dd0008b41"
      },
      "execution_count": 41,
      "outputs": [
        {
          "output_type": "stream",
          "name": "stdout",
          "text": [
            "Executing query with job ID: 2b6d1027-ab62-497e-b93b-29b451791e91\n",
            "Query executing: 13.45s\n",
            "Query complete after 13.82s\n"
          ]
        }
      ]
    },
    {
      "cell_type": "code",
      "source": [
        "df.columns"
      ],
      "metadata": {
        "colab": {
          "base_uri": "https://localhost:8080/"
        },
        "id": "P1-_j70Qjwuk",
        "outputId": "1b922673-0c0a-4978-e6d6-b50b168f9e6d"
      },
      "execution_count": 43,
      "outputs": [
        {
          "output_type": "execute_result",
          "data": {
            "text/plain": [
              "Index(['text'], dtype='object')"
            ]
          },
          "metadata": {},
          "execution_count": 43
        }
      ]
    },
    {
      "cell_type": "code",
      "source": [
        "#df.isnull().sum()\n",
        "\n",
        "#df1 = df[df['string_field_3'].isnull() == False]\n",
        "print(df.count())\n",
        "df.fillna('', inplace=True)\n",
        "df['text']= df[['string_field_0','string_field_1','string_field_2','string_field_3']].agg(' '.join, axis=1)\n",
        "df1 = df.drop(['string_field_0','string_field_1','string_field_2','string_field_3'],axis=1)\n",
        "df1.count()\n",
        "df1.columns"
      ],
      "metadata": {
        "colab": {
          "base_uri": "https://localhost:8080/"
        },
        "id": "RM850o_ac2t4",
        "outputId": "6dab98bd-504c-4fd3-8d42-01e7cc5091cf"
      },
      "execution_count": 28,
      "outputs": [
        {
          "output_type": "stream",
          "name": "stdout",
          "text": [
            "string_field_0    116865\n",
            "string_field_1    116865\n",
            "string_field_2    116865\n",
            "string_field_3    116865\n",
            "text              116865\n",
            "dtype: int64\n"
          ]
        },
        {
          "output_type": "execute_result",
          "data": {
            "text/plain": [
              "Index(['text'], dtype='object')"
            ]
          },
          "metadata": {},
          "execution_count": 28
        }
      ]
    },
    {
      "cell_type": "code",
      "source": [
        "# drop columns and clean up rows with none\n",
        "import pandas as pd\n",
        "\n",
        "df3 = df1.dropna()\n",
        "df3.head"
      ],
      "metadata": {
        "colab": {
          "base_uri": "https://localhost:8080/"
        },
        "id": "hZ52Rd2jJJSN",
        "outputId": "36cb3688-3ae7-48cf-dcc0-6c5af8f635ba"
      },
      "execution_count": 29,
      "outputs": [
        {
          "output_type": "execute_result",
          "data": {
            "text/plain": [
              "<bound method NDFrame.head of                                                      text\n",
              "0                                          THE SONNETS   \n",
              "1                                                        \n",
              "2                               by William Shakespeare   \n",
              "3                                                        \n",
              "4                                                        \n",
              "...                                                   ...\n",
              "116860  SERVICE THAT CHARGES FOR DOWNLOAD TIME OR FOR ...\n",
              "116861                                                   \n",
              "116862                                                   \n",
              "116863                                                   \n",
              "116864  End of this Etext of The Complete Works of Wil...\n",
              "\n",
              "[116865 rows x 1 columns]>"
            ]
          },
          "metadata": {},
          "execution_count": 29
        }
      ]
    },
    {
      "cell_type": "code",
      "source": [
        "# covert caps to lower case and clean the punctuation \n",
        "ds=df3['text'].str.lower().str.replace(r'[^\\w\\s]+', '')\n",
        "df4 = pd.DataFrame({'text':ds})"
      ],
      "metadata": {
        "colab": {
          "base_uri": "https://localhost:8080/"
        },
        "id": "zrzVLcIVN_Ip",
        "outputId": "c307ebf8-4b3b-4980-c7ce-bd13371fd110"
      },
      "execution_count": 30,
      "outputs": [
        {
          "output_type": "stream",
          "name": "stderr",
          "text": [
            "/usr/local/lib/python3.7/dist-packages/ipykernel_launcher.py:2: FutureWarning: The default value of regex will change from True to False in a future version.\n",
            "  \n"
          ]
        }
      ]
    },
    {
      "cell_type": "code",
      "source": [
        "# now split the strings into lists \n",
        "df5 = df4.assign(text=df4.text.str.split(\" \"))\n",
        "df5.head"
      ],
      "metadata": {
        "colab": {
          "base_uri": "https://localhost:8080/"
        },
        "id": "MZQH9LSVRsgE",
        "outputId": "f5d5e6a9-8165-427c-e936-f47d9c0e17fb"
      },
      "execution_count": 31,
      "outputs": [
        {
          "output_type": "execute_result",
          "data": {
            "text/plain": [
              "<bound method NDFrame.head of                                                      text\n",
              "0                                    [the, sonnets, , , ]\n",
              "1                                                [, , , ]\n",
              "2                        [by, william, shakespeare, , , ]\n",
              "3                                                [, , , ]\n",
              "4                                                [, , , ]\n",
              "...                                                   ...\n",
              "116860  [service, that, charges, for, download, time, ...\n",
              "116861                                           [, , , ]\n",
              "116862                                           [, , , ]\n",
              "116863                                           [, , , ]\n",
              "116864  [end, of, this, etext, of, the, complete, work...\n",
              "\n",
              "[116865 rows x 1 columns]>"
            ]
          },
          "metadata": {},
          "execution_count": 31
        }
      ]
    },
    {
      "cell_type": "code",
      "source": [
        "# now explode the lists into separate rows\n",
        "df6 = df5.explode('text').reset_index(drop=True)\n",
        "df6.dropna(inplace=True)\n",
        "df6.head"
      ],
      "metadata": {
        "colab": {
          "base_uri": "https://localhost:8080/"
        },
        "id": "XnMuWISfZRmn",
        "outputId": "87ca2c91-87d7-443f-b72d-307dcc7ab1c4"
      },
      "execution_count": 37,
      "outputs": [
        {
          "output_type": "execute_result",
          "data": {
            "text/plain": [
              "<bound method NDFrame.head of                 text\n",
              "0                the\n",
              "1            sonnets\n",
              "2                   \n",
              "3                   \n",
              "4                   \n",
              "...              ...\n",
              "1182848      william\n",
              "1182849  shakespeare\n",
              "1182850             \n",
              "1182851             \n",
              "1182852             \n",
              "\n",
              "[1182853 rows x 1 columns]>"
            ]
          },
          "metadata": {},
          "execution_count": 37
        }
      ]
    },
    {
      "cell_type": "code",
      "source": [
        "# now count the words\n",
        "final_df = df6.value_counts().reset_index()\n",
        "final_df.columns = ['word','count']\n",
        "final_df.head"
      ],
      "metadata": {
        "colab": {
          "base_uri": "https://localhost:8080/"
        },
        "id": "QyC2a9l1aKUM",
        "outputId": "dec49b1d-62e4-401b-e8ac-588919175ca5"
      },
      "execution_count": 38,
      "outputs": [
        {
          "output_type": "execute_result",
          "data": {
            "text/plain": [
              "<bound method NDFrame.head of              word   count\n",
              "0                  337964\n",
              "1             the   25944\n",
              "2             and   25065\n",
              "3               i   19263\n",
              "4              to   17939\n",
              "...           ...     ...\n",
              "27552  farborough       1\n",
              "27553    priscian       1\n",
              "27554         fap       1\n",
              "27555     prisond       1\n",
              "27556    zwaggerd       1\n",
              "\n",
              "[27557 rows x 2 columns]>"
            ]
          },
          "metadata": {},
          "execution_count": 38
        }
      ]
    }
  ]
}