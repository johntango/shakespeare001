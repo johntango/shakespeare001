{
  "nbformat": 4,
  "nbformat_minor": 0,
  "metadata": {
    "colab": {
      "name": "ShakespeareColab_002.ipynb",
      "provenance": [],
      "authorship_tag": "ABX9TyPsdSHOXVodpNg8MMjcH13P",
      "include_colab_link": true
    },
    "kernelspec": {
      "name": "python3",
      "display_name": "Python 3"
    },
    "language_info": {
      "name": "python"
    }
  },
  "cells": [
    {
      "cell_type": "markdown",
      "metadata": {
        "id": "view-in-github",
        "colab_type": "text"
      },
      "source": [
        "<a href=\"https://colab.research.google.com/github/johntango/shakespeare001/blob/main/ShakespeareColab_002.ipynb\" target=\"_parent\"><img src=\"https://colab.research.google.com/assets/colab-badge.svg\" alt=\"Open In Colab\"/></a>"
      ]
    },
    {
      "cell_type": "code",
      "execution_count": 1,
      "metadata": {
        "colab": {
          "base_uri": "https://localhost:8080/"
        },
        "id": "eXXNAIMs_fxu",
        "outputId": "7e51f71f-3bd4-407e-cb4c-2c3a771ce6da"
      },
      "outputs": [
        {
          "output_type": "stream",
          "name": "stdout",
          "text": [
            "Authenticated\n"
          ]
        }
      ],
      "source": [
        "from google.colab import auth\n",
        "auth.authenticate_user()\n",
        "print('Authenticated')"
      ]
    },
    {
      "cell_type": "code",
      "source": [
        "%%bigquery --project demoproject002-351320 --verbose df\n",
        "SELECT * FROM `demoproject002-351320.Shakespeare.shakespeare`"
      ],
      "metadata": {
        "colab": {
          "base_uri": "https://localhost:8080/"
        },
        "id": "GzYZmvt_I2HV",
        "outputId": "8dd6b6ac-5387-420e-b971-261b816eda72"
      },
      "execution_count": 102,
      "outputs": [
        {
          "output_type": "stream",
          "name": "stdout",
          "text": [
            "Executing query with job ID: 8b2ecc09-2d13-457f-88c3-abfb06af5655\n",
            "Query executing: 21.99s\n",
            "Query complete after 22.86s\n"
          ]
        }
      ]
    },
    {
      "cell_type": "code",
      "source": [
        "df.head"
      ],
      "metadata": {
        "colab": {
          "base_uri": "https://localhost:8080/"
        },
        "id": "RM850o_ac2t4",
        "outputId": "e90f1554-b572-44ad-d440-50e4d84b933c"
      },
      "execution_count": 103,
      "outputs": [
        {
          "output_type": "execute_result",
          "data": {
            "text/plain": [
              "<bound method NDFrame.head of                                            string_field_0 string_field_1  \\\n",
              "0                                             THE SONNETS           None   \n",
              "1                                                    None           None   \n",
              "2                                  by William Shakespeare           None   \n",
              "3                                                    None           None   \n",
              "4                                                    None           None   \n",
              "...                                                   ...            ...   \n",
              "116860  SERVICE THAT CHARGES FOR DOWNLOAD TIME OR FOR ...           None   \n",
              "116861                                               None           None   \n",
              "116862                                               None           None   \n",
              "116863                                               None           None   \n",
              "116864  End of this Etext of The Complete Works of Wil...           None   \n",
              "\n",
              "       string_field_2 string_field_3  \n",
              "0                None           None  \n",
              "1                None           None  \n",
              "2                None           None  \n",
              "3                None           None  \n",
              "4                None           None  \n",
              "...               ...            ...  \n",
              "116860           None           None  \n",
              "116861           None           None  \n",
              "116862           None           None  \n",
              "116863           None           None  \n",
              "116864           None           None  \n",
              "\n",
              "[116865 rows x 4 columns]>"
            ]
          },
          "metadata": {},
          "execution_count": 103
        }
      ]
    },
    {
      "cell_type": "code",
      "source": [
        "# drop columns and clean up rows with none\n",
        "import pandas as pd\n",
        "df1 = df.drop(['string_field_1','string_field_2','string_field_3'],axis=1)\n",
        "df2 = df1.rename(columns={'string_field_0':'text'})\n",
        "df3 = df2.dropna()\n",
        "df3.head"
      ],
      "metadata": {
        "colab": {
          "base_uri": "https://localhost:8080/"
        },
        "id": "hZ52Rd2jJJSN",
        "outputId": "6e6ecd31-b758-48ef-ae6a-b9b839ee22ae"
      },
      "execution_count": 104,
      "outputs": [
        {
          "output_type": "execute_result",
          "data": {
            "text/plain": [
              "<bound method NDFrame.head of                                                      text\n",
              "0                                             THE SONNETS\n",
              "2                                  by William Shakespeare\n",
              "6                                                       1\n",
              "7               From fairest creatures we desire increase\n",
              "8              That thereby beauty's rose might never die\n",
              "...                                                   ...\n",
              "116857  DISTRIBUTED SO LONG AS SUCH COPIES (1) ARE FOR...\n",
              "116858                                  PERSONAL USE ONLY\n",
              "116859  COMMERCIALLY.  PROHIBITED COMMERCIAL DISTRIBUT...\n",
              "116860  SERVICE THAT CHARGES FOR DOWNLOAD TIME OR FOR ...\n",
              "116864  End of this Etext of The Complete Works of Wil...\n",
              "\n",
              "[107829 rows x 1 columns]>"
            ]
          },
          "metadata": {},
          "execution_count": 104
        }
      ]
    },
    {
      "cell_type": "code",
      "source": [
        "# covert caps to lower case and clean the punctuation \n",
        "ds=df3['text'].str.lower().str.replace(r'[^\\w\\s]+', '')\n",
        "df4 = pd.DataFrame({'text':ds})"
      ],
      "metadata": {
        "colab": {
          "base_uri": "https://localhost:8080/"
        },
        "id": "zrzVLcIVN_Ip",
        "outputId": "dcb81713-9c50-45dc-8873-35c46746a012"
      },
      "execution_count": 105,
      "outputs": [
        {
          "output_type": "stream",
          "name": "stderr",
          "text": [
            "/usr/local/lib/python3.7/dist-packages/ipykernel_launcher.py:2: FutureWarning: The default value of regex will change from True to False in a future version.\n",
            "  \n"
          ]
        }
      ]
    },
    {
      "cell_type": "code",
      "source": [
        "# now split the strings into lists \n",
        "df5 = df4.assign(text=df4.text.str.split(\" \"))\n",
        "df5.head"
      ],
      "metadata": {
        "colab": {
          "base_uri": "https://localhost:8080/"
        },
        "id": "MZQH9LSVRsgE",
        "outputId": "f21b09e5-bb06-4468-8542-8103197ad5a2"
      },
      "execution_count": 106,
      "outputs": [
        {
          "output_type": "execute_result",
          "data": {
            "text/plain": [
              "<bound method NDFrame.head of                                                      text\n",
              "0                                          [the, sonnets]\n",
              "2                              [by, william, shakespeare]\n",
              "6                                                     [1]\n",
              "7        [from, fairest, creatures, we, desire, increase]\n",
              "8       [that, thereby, beautys, rose, might, never, die]\n",
              "...                                                   ...\n",
              "116857  [distributed, so, long, as, such, copies, 1, a...\n",
              "116858                              [personal, use, only]\n",
              "116859  [commercially, , prohibited, commercial, distr...\n",
              "116860  [service, that, charges, for, download, time, ...\n",
              "116864  [end, of, this, etext, of, the, complete, work...\n",
              "\n",
              "[107829 rows x 1 columns]>"
            ]
          },
          "metadata": {},
          "execution_count": 106
        }
      ]
    },
    {
      "cell_type": "code",
      "source": [
        "# now explode the lists into separate rows\n",
        "df6 = df5.explode('text').reset_index(drop=True)\n",
        "df6.head"
      ],
      "metadata": {
        "colab": {
          "base_uri": "https://localhost:8080/"
        },
        "id": "XnMuWISfZRmn",
        "outputId": "6f131b05-de91-4ff4-f659-6ea9e7721980"
      },
      "execution_count": 107,
      "outputs": [
        {
          "output_type": "execute_result",
          "data": {
            "text/plain": [
              "<bound method NDFrame.head of                text\n",
              "0               the\n",
              "1           sonnets\n",
              "2                by\n",
              "3           william\n",
              "4       shakespeare\n",
              "...             ...\n",
              "656203     complete\n",
              "656204        works\n",
              "656205           of\n",
              "656206      william\n",
              "656207  shakespeare\n",
              "\n",
              "[656208 rows x 1 columns]>"
            ]
          },
          "metadata": {},
          "execution_count": 107
        }
      ]
    },
    {
      "cell_type": "code",
      "source": [
        "# now count the words\n",
        "final_df = df6.value_counts().reset_index()\n",
        "final_df.columns = ['word','count']\n",
        "final_df.head"
      ],
      "metadata": {
        "colab": {
          "base_uri": "https://localhost:8080/"
        },
        "id": "QyC2a9l1aKUM",
        "outputId": "256e3655-7f05-4d2b-beff-8f6fdbd0eb2a"
      },
      "execution_count": 108,
      "outputs": [
        {
          "output_type": "execute_result",
          "data": {
            "text/plain": [
              "<bound method NDFrame.head of            word  count\n",
              "0                25660\n",
              "1           the  20113\n",
              "2           and  16251\n",
              "3            to  13932\n",
              "4            of  13729\n",
              "...         ...    ...\n",
              "24383    madame      1\n",
              "24384  madbrain      1\n",
              "24385   madbred      1\n",
              "24386   madeira      1\n",
              "24387  zwaggerd      1\n",
              "\n",
              "[24388 rows x 2 columns]>"
            ]
          },
          "metadata": {},
          "execution_count": 108
        }
      ]
    }
  ]
}